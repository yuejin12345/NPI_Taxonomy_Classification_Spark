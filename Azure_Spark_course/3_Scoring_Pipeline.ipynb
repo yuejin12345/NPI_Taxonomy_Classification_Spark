{
    "cells": [{
        "cell_type": "markdown",
        "source": ["# Step 3: Scoring Pipeline\n\nWe assume you have already created a model to use in this scoring script. You can create a model using the `.\\notebooks\\2_Training_Pipeline` notebook.\n\nThe scoring pipeline consists of two steps:\n\n  1. Transform the raw data into a scoring data set\n  2. Score the scoring data set.\n  \nWe assume that new data is arriving into the data store as it's generated. A scoring workflow would poll the data store for new data on whatever schedule is convenient (realtime, hourly, daily...), transform and manipulate the new data just as was done for the training step, then predict the label for the new observations.\n\nWe can run the feature engineering notebook (`2a_feature_engineering`) with the correct parameters to simulate the polling process. Since our data was all ingested, and we are not simulating the collection of new data, we choose observations after the training data set end date of \"2015-10-30\". We transform the data into observation format the model expects. A note here, in a true production setting, it might be more convenient to split the (`2a_feature_engineering`) notebook into a featurizing notebook and a labeller notebook that calculates labels separately, and joins them to the features. Then the scoring process would only need the features, and labels could be collected later and compared to predictions for post processing to monitor the model accuracy. \n\nSecond, we run the scoring notebook (`3b_model_scoring`) to read the scoring data set, generate predictions for each of those observations using the specified `model` and store the results in the `results_data` dataset. \n\nSince the scoring data set is only used between these two notebooks, we remove the scoring table after scoring the data.\n\nThis notebook should take about 2-3 minutes to complete."],
        "metadata": {}
    }, {
        "cell_type": "code",
        "source": ["from pyspark.sql import SparkSession\n\n# The scoring uses the same feature engineering script used to train the model\nscoring_table = 'scoring_input'\nresults_table = 'results_output'\nmodel = 'RandomForest' # Use 'DecisionTree' or 'RandomForest'"],
        "metadata": {},
        "outputs": [{
            "metadata": {},
            "output_type": "display_data",
            "data": {
                "text/html": ["<style scoped>\n  .ansiout {\n    display: block;\n    unicode-bidi: embed;\n    white-space: pre-wrap;\n    word-wrap: break-word;\n    word-break: break-all;\n    font-family: \"Source Code Pro\", \"Menlo\", monospace;;\n    font-size: 13px;\n    color: #555;\n    margin-left: 4px;\n    line-height: 19px;\n  }\n</style>\n<div class=\"ansiout\"></div>"]
            }
        }],
        "execution_count": 2
    }, {
        "cell_type": "markdown",
        "source": ["Databricks parameters to customize the runs."],
        "metadata": {}
    }, {
        "cell_type": "code",
        "source": ["dbutils.widgets.removeAll()\ndbutils.widgets.text(\"results_data\", results_table)\n\ndbutils.widgets.text(\"model\", model)\n\ndbutils.widgets.text(\"start_date\", '2015-11-15')\n\ndbutils.widgets.text(\"to_date\", '2016-04-30')\n"],
        "metadata": {},
        "outputs": [{
            "metadata": {},
            "output_type": "display_data",
            "data": {
                "text/html": ["<style scoped>\n  .ansiout {\n    display: block;\n    unicode-bidi: embed;\n    white-space: pre-wrap;\n    word-wrap: break-word;\n    word-break: break-all;\n    font-family: \"Source Code Pro\", \"Menlo\", monospace;;\n    font-size: 13px;\n    color: #555;\n    margin-left: 4px;\n    line-height: 19px;\n  }\n</style>\n<div class=\"ansiout\"></div>"]
            }
        }],
        "execution_count": 4
    }, {
        "cell_type": "markdown",
        "source": ["## Feature Engineering\n\nThe scenario is constructed as a pipeline flow, where each notebook is optimized to perform in a batch setting for each of the ingest, feature engineering, model building, model scoring operations. To accomplish this, this `2a_feature_engineering` notebook is designed to be used to generate a general data set for any of the training, calibrate, test or scoring operations. In this scenario, we use a temporal split strategy for these operations, so the notebook parameters are used to set date range filtering. The notebook creates a labeled data set using the parameters start_date and to_date to select the time period for training. This data set is stored in the features_table specified. After this cell completes, you should see the dataset under the Databricks Data icon.\n\nCreate a scoring data set using the parameters `start_date` and `to_date` to select the time period for scoring. Store those results in the `scoring_table` specified."],
        "metadata": {}
    }, {
        "cell_type": "code",
        "source": ["dbutils.notebook.run(\"2a_feature_engineering\", 600, {\"features_table\": scoring_table, \n                                                     \"start_date\": dbutils.widgets.get(\"start_date\"), \n                                                     \"to_date\": dbutils.widgets.get(\"to_date\")})"],
        "metadata": {},
        "outputs": [{
            "metadata": {},
            "output_type": "display_data",
            "data": {
                "text/html": ["<style scoped>\n  .ansiout {\n    display: block;\n    unicode-bidi: embed;\n    white-space: pre-wrap;\n    word-wrap: break-word;\n    word-break: break-all;\n    font-family: \"Source Code Pro\", \"Menlo\", monospace;;\n    font-size: 13px;\n    color: #555;\n    margin-left: 4px;\n    line-height: 19px;\n  }\n</style>\n<div class=\"ansiout\"></div>"]
            }
        }],
        "execution_count": 6
    }, {
        "cell_type": "markdown",
        "source": ["## Scoring observations\n\nUsing the `model` specified, predict the probability of component failures for the observations in the `scoring_table`. Store the resulting probabilities in the `results_data` set, which will be available in the Databricks data store for later post processing."],
        "metadata": {}
    }, {
        "cell_type": "code",
        "source": ["dbutils.notebook.run(\"3b_model_scoring\", 600, {\"scoring_data\": scoring_table, \n                                               \"results_data\": dbutils.widgets.get(\"results_data\"), \n                                               \"model\": dbutils.widgets.get(\"model\")})"],
        "metadata": {},
        "outputs": [{
            "metadata": {},
            "output_type": "display_data",
            "data": {
                "text/html": ["<style scoped>\n  .ansiout {\n    display: block;\n    unicode-bidi: embed;\n    white-space: pre-wrap;\n    word-wrap: break-word;\n    word-break: break-all;\n    font-family: \"Source Code Pro\", \"Menlo\", monospace;;\n    font-size: 13px;\n    color: #555;\n    margin-left: 4px;\n    line-height: 19px;\n  }\n</style>\n<div class=\"ansiout\"></div>"]
            }
        }],
        "execution_count": 8
    }, {
        "cell_type": "markdown",
        "source": ["## Cleanup temporary data\n\nSince we only need the `scoring_table` data to pass observations from the featurizer to the scoring notebooks, we can safly remove the table."],
        "metadata": {}
    }, {
        "cell_type": "code",
        "source": ["# Since we created the scoring data set, we should remove it to keep things clean.\nspark = SparkSession.builder.getOrCreate()\ntelemetry = spark.sql(\"DROP TABLE \" + scoring_table)"],
        "metadata": {},
        "outputs": [{
            "metadata": {},
            "output_type": "display_data",
            "data": {
                "text/html": ["<style scoped>\n  .ansiout {\n    display: block;\n    unicode-bidi: embed;\n    white-space: pre-wrap;\n    word-wrap: break-word;\n    word-break: break-all;\n    font-family: \"Source Code Pro\", \"Menlo\", monospace;;\n    font-size: 13px;\n    color: #555;\n    margin-left: 4px;\n    line-height: 19px;\n  }\n</style>\n<div class=\"ansiout\"></div>"]
            }
        }],
        "execution_count": 10
    }, {
        "cell_type": "markdown",
        "source": ["# Conclusion\n\nThe scenario is constructed as a pipeline flow, where each notebook is optimized to perform in a batch setting for each of the ingest, feature engineering, model building, model scoring operations. The included notebooks can be customized for application to your specific batch scoring use case."],
        "metadata": {}
    }],
    "metadata": {
        "name": "Scoring Workflow",
        "notebookId": 1086115452232439
    },
    "nbformat": 4,
    "nbformat_minor": 0
}
